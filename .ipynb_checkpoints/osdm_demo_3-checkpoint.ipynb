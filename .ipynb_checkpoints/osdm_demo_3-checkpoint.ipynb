{
 "cells": [
  {
   "cell_type": "markdown",
   "id": "7b0da25d-31b9-4c7a-bcbc-10e340cbc5e1",
   "metadata": {},
   "source": [
    "# OSDM API Demo\n",
    "\n",
    "This notebooks demonstrates how to access and use the OSDM API."
   ]
  },
  {
   "cell_type": "code",
   "execution_count": 1,
   "id": "e6f86d3a-3d7e-4afd-8b13-69f6f76af893",
   "metadata": {
    "tags": []
   },
   "outputs": [
    {
     "name": "stdout",
     "output_type": "stream",
     "text": [
      "Requirement already satisfied: pip in /opt/conda/lib/python3.10/site-packages (23.1.2)\n",
      "Requirement already satisfied: install in /opt/conda/lib/python3.10/site-packages (1.3.5)\n",
      "Requirement already satisfied: python-dotenv in /opt/conda/lib/python3.10/site-packages (1.0.0)\n",
      "Requirement already satisfied: requests in /opt/conda/lib/python3.10/site-packages (2.29.0)\n",
      "Requirement already satisfied: charset-normalizer<4,>=2 in /opt/conda/lib/python3.10/site-packages (from requests) (3.1.0)\n",
      "Requirement already satisfied: idna<4,>=2.5 in /opt/conda/lib/python3.10/site-packages (from requests) (3.4)\n",
      "Requirement already satisfied: urllib3<1.27,>=1.21.1 in /opt/conda/lib/python3.10/site-packages (from requests) (1.26.15)\n",
      "Requirement already satisfied: certifi>=2017.4.17 in /opt/conda/lib/python3.10/site-packages (from requests) (2022.12.7)\n"
     ]
    }
   ],
   "source": [
    "!pip install pip install python-dotenv\n",
    "!pip install requests"
   ]
  },
  {
   "cell_type": "markdown",
   "id": "953bbb4f-5169-4a32-960b-a03ab22b20bd",
   "metadata": {},
   "source": [
    "## Read Credentials from ~.env File"
   ]
  },
  {
   "cell_type": "code",
   "execution_count": 1,
   "id": "e2870a7e-4756-478a-b11c-3f078fef3758",
   "metadata": {
    "tags": []
   },
   "outputs": [],
   "source": [
    "import os\n",
    "from dotenv import load_dotenv\n",
    "\n",
    "#Jupyter magic command to load .env variables\n",
    "%load_ext dotenv\n",
    "%dotenv"
   ]
  },
  {
   "cell_type": "code",
   "execution_count": 2,
   "id": "b7fd061a-578e-4093-b5ef-75b5233a1316",
   "metadata": {
    "tags": []
   },
   "outputs": [],
   "source": [
    "KEY_SECRET = os.getenv('KEY_SECRET')\n",
    "USERNAME = os.getenv('USERNAME')\n",
    "PASSWORD = os.getenv('PASSWORD')"
   ]
  },
  {
   "cell_type": "markdown",
   "id": "9463c25a-ff6c-440d-b565-2b6e179a1197",
   "metadata": {
    "tags": []
   },
   "source": [
    "## Get Token from OSDM API"
   ]
  },
  {
   "cell_type": "code",
   "execution_count": 3,
   "id": "b85e244e-2ecb-4a0e-a13b-8d2307178e19",
   "metadata": {
    "tags": []
   },
   "outputs": [],
   "source": [
    "import requests\n",
    "import json"
   ]
  },
  {
   "cell_type": "code",
   "execution_count": 4,
   "id": "7d7a6b92-bd91-40b0-9e4b-ec4efb061647",
   "metadata": {
    "tags": []
   },
   "outputs": [],
   "source": [
    "f = open('OSDM Demo environment.postman_environment.json')\n",
    "  \n",
    "# returns JSON object as \n",
    "# a dictionary\n",
    "environment = json.load(f)"
   ]
  },
  {
   "cell_type": "code",
   "execution_count": 5,
   "id": "2be66dd2-fd0f-4bf1-b5ee-fc8e1b9553d6",
   "metadata": {
    "tags": []
   },
   "outputs": [],
   "source": [
    "environment['values'][0]['value']=KEY_SECRET\n",
    "environment['values'][1]['value']=USERNAME\n",
    "environment['values'][2]['value']=PASSWORD"
   ]
  },
  {
   "cell_type": "code",
   "execution_count": 6,
   "id": "3e0b2e28-5a3d-4c26-a5c9-d59922991406",
   "metadata": {
    "tags": []
   },
   "outputs": [],
   "source": [
    "f = open('OSDM Demo (2.0.3).postman_collection.json')\n",
    "  \n",
    "# returns JSON object as \n",
    "# a dictionary\n",
    "collection = json.load(f)"
   ]
  },
  {
   "cell_type": "code",
   "execution_count": 20,
   "id": "af269108-3629-4c0f-a85d-a642a95dbf86",
   "metadata": {
    "tags": []
   },
   "outputs": [],
   "source": [
    "header = collection['item'][8]['item'][0]['request']['header']\n",
    "\n",
    "header[0]['value'] = header[0]['value'].replace('{{auth.key_secret}}',environment['values'][0]['value'])\n",
    "\n",
    "body = collection['item'][8]['item'][0]['request']['body']\n",
    "\n",
    "body['raw'] = body['raw'].replace('{{agent.username}}',environment['values'][1]['value'])\n",
    "body['raw'] = body['raw'].replace('{{agent.password}}',environment['values'][2]['value'])\n",
    "body['raw'] = body['raw'].replace('\\n    ','').replace('\\n','')"
   ]
  },
  {
   "cell_type": "code",
   "execution_count": 33,
   "id": "8a7f9ae9-cd57-4ce2-b0eb-373c70e5d03a",
   "metadata": {
    "tags": []
   },
   "outputs": [],
   "source": [
    "token = requests.post('https://api.osdm-demo-test.cloud.sqills.com/oauth/v2/token', data = body['raw'], headers=header[0])"
   ]
  },
  {
   "cell_type": "code",
   "execution_count": 34,
   "id": "4d850786-8c44-4424-869b-2712d625a34f",
   "metadata": {
    "tags": []
   },
   "outputs": [
    {
     "data": {
      "text/plain": [
       "'{\"error\":\"invalid_request\",\"error_description\":\"Request must contain client_id and client_secret within header or requestBody\"}'"
      ]
     },
     "execution_count": 34,
     "metadata": {},
     "output_type": "execute_result"
    }
   ],
   "source": [
    "token.text"
   ]
  },
  {
   "cell_type": "code",
   "execution_count": 35,
   "id": "d02d265d-94e6-4af8-9d54-60a2e8a60341",
   "metadata": {
    "tags": []
   },
   "outputs": [
    {
     "data": {
      "text/plain": [
       "<Response [400]>"
      ]
     },
     "execution_count": 35,
     "metadata": {},
     "output_type": "execute_result"
    }
   ],
   "source": [
    "token"
   ]
  },
  {
   "cell_type": "code",
   "execution_count": null,
   "id": "609fe447-1e13-4b9b-9485-647edb76e2de",
   "metadata": {},
   "outputs": [],
   "source": []
  }
 ],
 "metadata": {
  "kernelspec": {
   "display_name": "Python 3 (ipykernel)",
   "language": "python",
   "name": "python3"
  },
  "language_info": {
   "codemirror_mode": {
    "name": "ipython",
    "version": 3
   },
   "file_extension": ".py",
   "mimetype": "text/x-python",
   "name": "python",
   "nbconvert_exporter": "python",
   "pygments_lexer": "ipython3",
   "version": "3.10.10"
  }
 },
 "nbformat": 4,
 "nbformat_minor": 5
}
