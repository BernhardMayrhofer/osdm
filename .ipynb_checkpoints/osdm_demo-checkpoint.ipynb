{
 "cells": [
  {
   "cell_type": "markdown",
   "id": "76f94672-2389-4274-86b4-8869b7111072",
   "metadata": {},
   "source": [
    "# osdm demo"
   ]
  },
  {
   "cell_type": "code",
   "execution_count": 89,
   "id": "7b342a70-3660-422e-8394-71ee3a1fffbf",
   "metadata": {
    "tags": []
   },
   "outputs": [
    {
     "data": {
      "text/plain": [
       "True"
      ]
     },
     "execution_count": 89,
     "metadata": {},
     "output_type": "execute_result"
    }
   ],
   "source": [
    "import os\n",
    "import requests\n",
    "import json\n",
    "import pandas as pd\n",
    "\n",
    "from dotenv import load_dotenv\n",
    "\n",
    "load_dotenv()"
   ]
  },
  {
   "cell_type": "markdown",
   "id": "ba545304-218c-4bb6-b74f-a1c23beacfe3",
   "metadata": {
    "tags": []
   },
   "source": [
    "## Get Secrets from .env"
   ]
  },
  {
   "cell_type": "code",
   "execution_count": 90,
   "id": "5a4f75f0-e9f2-4b95-a100-6a1ee0f1ff41",
   "metadata": {
    "tags": []
   },
   "outputs": [],
   "source": [
    "KEY_SECRET = os.getenv('KEY_SECRET')\n",
    "USERNAME = os.getenv('USERNAME')\n",
    "PASSWORD = os.getenv('PASSWORD')"
   ]
  },
  {
   "cell_type": "markdown",
   "id": "41d97f4e-a001-404a-b88a-d8fa66ebbc1f",
   "metadata": {
    "tags": []
   },
   "source": [
    "## Master Data"
   ]
  },
  {
   "cell_type": "markdown",
   "id": "9236159d-bcf9-4fed-a320-26b584f6dfe0",
   "metadata": {},
   "source": [
    "### Agent Token"
   ]
  },
  {
   "cell_type": "code",
   "execution_count": 91,
   "id": "43454cb2-1b27-4eec-9e84-e8d8ff811fa6",
   "metadata": {
    "tags": []
   },
   "outputs": [],
   "source": [
    "url = \"{{api-host}}/oauth/v2/token\".replace(\"{{api-host}}\", \"https://api.osdm-demo-test.cloud.sqills.com\")\n",
    "\n",
    "payload = {\n",
    "  \"grant_type\": \"https://com.sqills.s3.oauth.agent\",\n",
    "  \"username\": \"{{agent.username}}\",\n",
    "  \"password\": \"{{agent.password}}\"\n",
    "}\n",
    "\n",
    "payload['username'] = payload['username'].replace(\"{{agent.username}}\", USERNAME)\n",
    "payload['password'] = payload['password'].replace(\"{{agent.password}}\", PASSWORD)\n",
    "\n",
    "headers = {\n",
    "  'Authorization': 'Basic {{auth.key_secret}}',\n",
    "  'Content-Type': 'application/json'\n",
    "}\n",
    "\n",
    "headers['Authorization'] = headers['Authorization'].replace(\"{{auth.key_secret}}\", KEY_SECRET)\n",
    "\n",
    "response = requests.request(\"POST\", url, headers=headers, data=json.dumps(payload))\n",
    "\n",
    "token = json.loads(response.text)['access_token']"
   ]
  },
  {
   "cell_type": "markdown",
   "id": "5875b15b-9512-4e2d-a9d1-044bd4b7fa2b",
   "metadata": {},
   "source": [
    "### Products"
   ]
  },
  {
   "cell_type": "code",
   "execution_count": 92,
   "id": "c9abd78a-89fe-424c-a62c-44a85c18207e",
   "metadata": {
    "tags": []
   },
   "outputs": [
    {
     "data": {
      "text/html": [
       "<div>\n",
       "<style scoped>\n",
       "    .dataframe tbody tr th:only-of-type {\n",
       "        vertical-align: middle;\n",
       "    }\n",
       "\n",
       "    .dataframe tbody tr th {\n",
       "        vertical-align: top;\n",
       "    }\n",
       "\n",
       "    .dataframe thead th {\n",
       "        text-align: right;\n",
       "    }\n",
       "</style>\n",
       "<table border=\"1\" class=\"dataframe\">\n",
       "  <thead>\n",
       "    <tr style=\"text-align: right;\">\n",
       "      <th></th>\n",
       "      <th>code</th>\n",
       "      <th>id</th>\n",
       "      <th>owner</th>\n",
       "      <th>description</th>\n",
       "      <th>summary</th>\n",
       "    </tr>\n",
       "  </thead>\n",
       "  <tbody>\n",
       "    <tr>\n",
       "      <th>0</th>\n",
       "      <td>BIKE_01</td>\n",
       "      <td>BIKE_01</td>\n",
       "      <td>osdm-demo-test</td>\n",
       "      <td>NaN</td>\n",
       "      <td>NaN</td>\n",
       "    </tr>\n",
       "    <tr>\n",
       "      <th>1</th>\n",
       "      <td>CAN_FEE1</td>\n",
       "      <td>CAN_FEE1</td>\n",
       "      <td>osdm-demo-test</td>\n",
       "      <td>Cancellation fee - Flexible products</td>\n",
       "      <td>Cancellation fee - Flexible products</td>\n",
       "    </tr>\n",
       "    <tr>\n",
       "      <th>2</th>\n",
       "      <td>CAN_FEE2</td>\n",
       "      <td>CAN_FEE2</td>\n",
       "      <td>osdm-demo-test</td>\n",
       "      <td>Cancellation fee - Medium Flex products</td>\n",
       "      <td>Cancellation fee - Medium Flex products</td>\n",
       "    </tr>\n",
       "    <tr>\n",
       "      <th>3</th>\n",
       "      <td>CAN_FEE3</td>\n",
       "      <td>CAN_FEE3</td>\n",
       "      <td>osdm-demo-test</td>\n",
       "      <td>Cancellation fee - Low fixed products</td>\n",
       "      <td>Cancellation fee - Low fixed products</td>\n",
       "    </tr>\n",
       "    <tr>\n",
       "      <th>4</th>\n",
       "      <td>LUGGAGE</td>\n",
       "      <td>LUGGAGE</td>\n",
       "      <td>osdm-demo-test</td>\n",
       "      <td>Standard luggage Sqills OSDM sandbox</td>\n",
       "      <td>Standard luggage Sqills OSDM sandbox</td>\n",
       "    </tr>\n",
       "  </tbody>\n",
       "</table>\n",
       "</div>"
      ],
      "text/plain": [
       "       code        id           owner   \n",
       "0   BIKE_01   BIKE_01  osdm-demo-test  \\\n",
       "1  CAN_FEE1  CAN_FEE1  osdm-demo-test   \n",
       "2  CAN_FEE2  CAN_FEE2  osdm-demo-test   \n",
       "3  CAN_FEE3  CAN_FEE3  osdm-demo-test   \n",
       "4   LUGGAGE   LUGGAGE  osdm-demo-test   \n",
       "\n",
       "                               description   \n",
       "0                                      NaN  \\\n",
       "1     Cancellation fee - Flexible products   \n",
       "2  Cancellation fee - Medium Flex products   \n",
       "3    Cancellation fee - Low fixed products   \n",
       "4     Standard luggage Sqills OSDM sandbox   \n",
       "\n",
       "                                   summary  \n",
       "0                                      NaN  \n",
       "1     Cancellation fee - Flexible products  \n",
       "2  Cancellation fee - Medium Flex products  \n",
       "3    Cancellation fee - Low fixed products  \n",
       "4     Standard luggage Sqills OSDM sandbox  "
      ]
     },
     "execution_count": 92,
     "metadata": {},
     "output_type": "execute_result"
    }
   ],
   "source": [
    "url = \"https://osdm-demo-test.osdm-adapter.s3p.cloud/v2/products\"\n",
    "\n",
    "payload = \"\"\n",
    "\n",
    "headers = {\n",
    "  'Authorization': 'Bearer {{agent.token}}'\n",
    "}\n",
    "\n",
    "headers['Authorization'] = headers['Authorization'].replace(\"{{agent.token}}\", token)\n",
    "\n",
    "response = requests.request(\"GET\", url, headers=headers, data=json.dumps(payload))\n",
    "\n",
    "df = pd.json_normalize(json.loads(response.text)['products'])\n",
    "df.head()"
   ]
  },
  {
   "cell_type": "markdown",
   "id": "a36cb4ed-8f85-407f-b705-476569b56988",
   "metadata": {
    "tags": []
   },
   "source": [
    "### Places"
   ]
  },
  {
   "cell_type": "code",
   "execution_count": 93,
   "id": "4e4a8d12-66aa-412f-8b2c-1e5f4f63d373",
   "metadata": {
    "tags": []
   },
   "outputs": [
    {
     "data": {
      "text/html": [
       "<div>\n",
       "<style scoped>\n",
       "    .dataframe tbody tr th:only-of-type {\n",
       "        vertical-align: middle;\n",
       "    }\n",
       "\n",
       "    .dataframe tbody tr th {\n",
       "        vertical-align: top;\n",
       "    }\n",
       "\n",
       "    .dataframe thead th {\n",
       "        text-align: right;\n",
       "    }\n",
       "</style>\n",
       "<table border=\"1\" class=\"dataframe\">\n",
       "  <thead>\n",
       "    <tr style=\"text-align: right;\">\n",
       "      <th></th>\n",
       "      <th>id</th>\n",
       "      <th>name</th>\n",
       "      <th>address.code</th>\n",
       "      <th>stopPlace.name</th>\n",
       "      <th>stopPlace.ref.objectType</th>\n",
       "      <th>stopPlace.ref.name</th>\n",
       "      <th>stopPlace.ref.stopPlaceRef</th>\n",
       "    </tr>\n",
       "  </thead>\n",
       "  <tbody>\n",
       "    <tr>\n",
       "      <th>0</th>\n",
       "      <td>urn:uic:stn:8015458</td>\n",
       "      <td>Köln Hbf</td>\n",
       "      <td>DEKOH</td>\n",
       "      <td>Köln Hbf</td>\n",
       "      <td>StopPlaceRef</td>\n",
       "      <td>Köln Hbf</td>\n",
       "      <td>urn:uic:stn:8015458</td>\n",
       "    </tr>\n",
       "    <tr>\n",
       "      <th>1</th>\n",
       "      <td>urn:uic:stn:8011068</td>\n",
       "      <td>Frankfurt (Main) Hbf</td>\n",
       "      <td>DEFRA</td>\n",
       "      <td>Frankfurt (Main) Hbf</td>\n",
       "      <td>StopPlaceRef</td>\n",
       "      <td>Frankfurt (Main) Hbf</td>\n",
       "      <td>urn:uic:stn:8011068</td>\n",
       "    </tr>\n",
       "    <tr>\n",
       "      <th>2</th>\n",
       "      <td>urn:uic:stn:8503000</td>\n",
       "      <td>Zürich HB</td>\n",
       "      <td>CHAJD</td>\n",
       "      <td>Zürich HB</td>\n",
       "      <td>StopPlaceRef</td>\n",
       "      <td>Zürich HB</td>\n",
       "      <td>urn:uic:stn:8503000</td>\n",
       "    </tr>\n",
       "  </tbody>\n",
       "</table>\n",
       "</div>"
      ],
      "text/plain": [
       "                    id                  name address.code   \n",
       "0  urn:uic:stn:8015458              Köln Hbf        DEKOH  \\\n",
       "1  urn:uic:stn:8011068  Frankfurt (Main) Hbf        DEFRA   \n",
       "2  urn:uic:stn:8503000             Zürich HB        CHAJD   \n",
       "\n",
       "         stopPlace.name stopPlace.ref.objectType    stopPlace.ref.name   \n",
       "0              Köln Hbf             StopPlaceRef              Köln Hbf  \\\n",
       "1  Frankfurt (Main) Hbf             StopPlaceRef  Frankfurt (Main) Hbf   \n",
       "2             Zürich HB             StopPlaceRef             Zürich HB   \n",
       "\n",
       "  stopPlace.ref.stopPlaceRef  \n",
       "0        urn:uic:stn:8015458  \n",
       "1        urn:uic:stn:8011068  \n",
       "2        urn:uic:stn:8503000  "
      ]
     },
     "execution_count": 93,
     "metadata": {},
     "output_type": "execute_result"
    }
   ],
   "source": [
    "url = \"https://osdm-demo-test.osdm-adapter.s3p.cloud/v2/places\"\n",
    "\n",
    "payload = {\n",
    "  \"placeInput\": {\n",
    "    \"name\": \"hb\"\n",
    "  },\n",
    "  \"numberOfResults\": 10\n",
    "}\n",
    "    \n",
    "headers = {\n",
    "  'Authorization': 'Bearer {{agent.token}}',\n",
    "  'Content-Type': 'application/json'\n",
    "}\n",
    "\n",
    "headers['Authorization'] = headers['Authorization'].replace(\"{{agent.token}}\", token)\n",
    "\n",
    "response = requests.request(\"POST\", url, headers=headers, data=json.dumps(payload))\n",
    "\n",
    "df = pd.json_normalize(json.loads(response.text)['places'])\n",
    "df"
   ]
  },
  {
   "cell_type": "markdown",
   "id": "dde54e32-03d0-48c2-9cf8-aca359829643",
   "metadata": {},
   "source": [
    "### Trips"
   ]
  },
  {
   "cell_type": "code",
   "execution_count": 94,
   "id": "2d75899a-e70c-4af4-833c-99c9f0176c46",
   "metadata": {
    "tags": []
   },
   "outputs": [
    {
     "data": {
      "text/plain": [
       "'hTqkqsbZWer46f4N9BuKah_3cXcwnAu35li7G11Ik3w1M25c-vdS_n4U4g3wisyGI1E73w-tq4ioAqwvfDEwRKVFDBzBoA6vMoOxvXRaGtuCvDfXqRDbmiBbhU0BorSWSqS5tzo6yFtCN79iws5jU5bbny3ge7nUDZNc'"
      ]
     },
     "execution_count": 94,
     "metadata": {},
     "output_type": "execute_result"
    }
   ],
   "source": [
    "url = \"https://osdm-demo-test.osdm-adapter.s3p.cloud/v2/trips-collection\"\n",
    "\n",
    "payload = {\n",
    "  \"departureTime\": \"2023-05-15T18:25:43.511Z\",\n",
    "  \"origin\": {\n",
    "    \"codeList\": \"UIC\",\n",
    "    \"code\": \"8400058\",\n",
    "    \"stopPlaceRef\": \"urn:uic:stn:8400058\"\n",
    "  },\n",
    "  \"destination\": {\n",
    "    \"codeList\": \"UIC\",\n",
    "    \"code\": \"8727100\",\n",
    "    \"stopPlaceRef\": \"urn:uic:stn:8727100\"\n",
    "  }\n",
    "}\n",
    "\n",
    "headers = {\n",
    "  'Authorization': 'Bearer {{agent.token}}',\n",
    "  'Content-Type': 'application/json'\n",
    "}\n",
    "\n",
    "headers['Authorization'] = headers['Authorization'].replace(\"{{agent.token}}\", token)\n",
    "\n",
    "response = requests.request(\"POST\", url, headers=headers, data=json.dumps(payload))\n",
    "\n",
    "trip_id = json.loads(response.text)['id']\n",
    "\n",
    "trip_id"
   ]
  },
  {
   "cell_type": "markdown",
   "id": "66f0e2ab-3844-4c49-b020-e23864b4fec9",
   "metadata": {},
   "source": [
    "### Trip"
   ]
  },
  {
   "cell_type": "code",
   "execution_count": 95,
   "id": "32e7f1ac-0438-4a47-9f83-b143d7ede08a",
   "metadata": {
    "tags": []
   },
   "outputs": [
    {
     "data": {
      "text/plain": [
       "<Response [405]>"
      ]
     },
     "execution_count": 95,
     "metadata": {},
     "output_type": "execute_result"
    }
   ],
   "source": [
    "url = \"https://osdm-demo-test.osdm-adapter.s3p.cloud/v2/trips/\" + trip_id\n",
    "\n",
    "payload = \"\"\n",
    "\n",
    "headers = {\n",
    "  'Authorization': 'Bearer {{agent.token}}',\n",
    "  'Content-Type': 'application/json'\n",
    "}\n",
    "\n",
    "headers['Authorization'] = headers['Authorization'].replace(\"{{agent.token}}\", token)\n",
    "\n",
    "response = requests.request(\"POST\", url, headers=headers, data=json.dumps(payload))\n",
    "\n",
    "response"
   ]
  },
  {
   "cell_type": "markdown",
   "id": "6f65c5fa-0ea2-4ee4-8a28-3dfaac166ba2",
   "metadata": {},
   "source": [
    "### Offers"
   ]
  },
  {
   "cell_type": "code",
   "execution_count": 96,
   "id": "81d69047-db9a-46a5-a98e-39baebdff2cd",
   "metadata": {
    "tags": []
   },
   "outputs": [],
   "source": [
    "url = \"https://osdm-demo-test.osdm-adapter.s3p.cloud/v2/offers\"\n",
    "\n",
    "payload = {\n",
    "  \"objectType\": \"string\",\n",
    "  \"tripSpecifications\": [\n",
    "    {\n",
    "      \"externalRef\": \"string\",\n",
    "      \"legs\": [\n",
    "        {\n",
    "          \"externalRef\": \"string\",\n",
    "          \"timedLeg\": {\n",
    "            \"start\": {\n",
    "              \"stopPlaceRef\": {\n",
    "                \"stopPlaceRef\": \"urn:uic:stn:8400058\"\n",
    "              },\n",
    "              \"serviceDeparture\": {\n",
    "                \"timetabledTime\": \"2023-05-15T18:25:43.511Z\"\n",
    "              }\n",
    "            },\n",
    "            \"end\": {\n",
    "              \"stopPlaceRef\": {\n",
    "                \"stopPlaceRef\": \"urn:uic:stn:8727100\"\n",
    "              },\n",
    "              \"serviceArrival\": {\n",
    "                \"timetabledTime\": \"2023-05-15T18:25:43.511Z\"\n",
    "              }\n",
    "            },\n",
    "            \"service\": {\n",
    "              \"publishedServiceName\": \"\",\n",
    "              \"vehicleNumbers\": [\n",
    "                \"\"\n",
    "              ],\n",
    "              \"carriers\": [\n",
    "                {\n",
    "                  \"ref\": \"\",\n",
    "                  \"name\": \"\"\n",
    "                }\n",
    "              ]\n",
    "            }\n",
    "          }\n",
    "        }\n",
    "      ],\n",
    "      \"isPartOfInternationalTrip\": False\n",
    "    }\n",
    "  ],\n",
    "  \"offerSearchCriteria\": {\n",
    "    \"currency\": \"EUR\"\n",
    "  },\n",
    "  \"anonymousPassengerSpecifications\": [\n",
    "    {\n",
    "      \"externalRef\": \"\",\n",
    "      \"type\": \"PERSON\"\n",
    "    }\n",
    "  ],\n",
    "  \"embed\": [\n",
    "    \"ALL\"\n",
    "  ]\n",
    "}\n",
    "\n",
    "headers = {\n",
    "  'Authorization': 'Bearer {{agent.token}}',\n",
    "  'Content-Type': 'application/json'\n",
    "}\n",
    "\n",
    "headers['Authorization'] = headers['Authorization'].replace(\"{{agent.token}}\", token)\n",
    "\n",
    "response = requests.request(\"POST\", url, headers=headers, data=json.dumps(payload))"
   ]
  },
  {
   "cell_type": "code",
   "execution_count": 97,
   "id": "d007c9dd-ae6d-4765-8660-5775b34e9de4",
   "metadata": {
    "tags": []
   },
   "outputs": [
    {
     "data": {
      "text/plain": [
       "'{\"title\":\"Bad Request\",\"status\":400,\"detail\":\"non_conform_request {description: Request does not conform to specification, v2_error_body: [\\\\\"field body\\\\\" [\\\\\"field travels\\\\\" [[\\\\\"at index 0\\\\\" [\\\\\"field routes\\\\\" [[\\\\\"at index 0\\\\\" [[\\\\\"field legs\\\\\" [[\\\\\"at index 0\\\\\" [[\\\\\"field service_name\\\\\" [\\\\\"expected service name\\\\\" [\\\\\"Name must not be empty\\\\\" \\\\\"\\\\\"]]]]]]]]]]]]]]]}\"}'"
      ]
     },
     "execution_count": 97,
     "metadata": {},
     "output_type": "execute_result"
    }
   ],
   "source": [
    "response.text"
   ]
  },
  {
   "cell_type": "markdown",
   "id": "93795b8b-ae21-47d7-b549-87374dcc948a",
   "metadata": {
    "tags": []
   },
   "source": [
    "## Sales Flow"
   ]
  },
  {
   "cell_type": "markdown",
   "id": "73526436-2b83-4194-a52a-de5fc0720158",
   "metadata": {
    "tags": []
   },
   "source": [
    "### 2. Navigate"
   ]
  },
  {
   "cell_type": "code",
   "execution_count": 98,
   "id": "e0240e24-f228-4738-9827-f2a52e28774a",
   "metadata": {
    "tags": []
   },
   "outputs": [
    {
     "data": {
      "text/plain": [
       "{'data': {'travels': [{'routes': [], 'id': 'travel_1'}]}}"
      ]
     },
     "execution_count": 98,
     "metadata": {},
     "output_type": "execute_result"
    }
   ],
   "source": [
    "url = \"https://api.osdm-demo-test.cloud.sqills.com/api/v2/orientation/navigate\"\n",
    "\n",
    "payload = {\n",
    "  \"travels\": [\n",
    "    {\n",
    "      \"origin\": \"8015458\",\n",
    "      \"destination\": \"8503000\",\n",
    "      \"departure\": \"2023-05-15\",\n",
    "      \"max_transfers\": 0\n",
    "    }\n",
    "  ]\n",
    "}\n",
    "\n",
    "headers = {\n",
    "  'Content-Type': 'application/json',\n",
    "  'Accept': 'application/json',\n",
    "  'Accept-Language': '{{locale}}',\n",
    "  'Authorization': 'Bearer {{agent.token}}'\n",
    "}\n",
    "\n",
    "headers['Authorization'] = headers['Authorization'].replace(\"{{agent.token}}\", token)\n",
    "\n",
    "response = requests.request(\"POST\", url, headers=headers, data=json.dumps(payload))\n",
    "\n",
    "data = json.loads(response.text)\n",
    "\n",
    "data"
   ]
  },
  {
   "cell_type": "markdown",
   "id": "172f262a-f36d-4c5b-8d0a-3ec1270850f3",
   "metadata": {},
   "source": [
    "## Booking a Ticket"
   ]
  },
  {
   "cell_type": "markdown",
   "id": "ed7a2a49-b306-413e-ab30-923c5806dfcf",
   "metadata": {},
   "source": [
    "### 1. Lookup Location Code"
   ]
  },
  {
   "cell_type": "code",
   "execution_count": 99,
   "id": "7ae61b4a-9409-42ad-b3b3-18bf7207f2aa",
   "metadata": {
    "tags": []
   },
   "outputs": [
    {
     "data": {
      "text/plain": [
       "{'places': [{'address': {'code': 'CHBAS'},\n",
       "   'id': 'urn:uic:stn:8500010',\n",
       "   'name': 'Basel SBB',\n",
       "   'stopPlace': {'name': 'Basel SBB',\n",
       "    'ref': {'objectType': 'StopPlaceRef',\n",
       "     'name': 'Basel SBB',\n",
       "     'stopPlaceRef': 'urn:uic:stn:8500010'}}}]}"
      ]
     },
     "execution_count": 99,
     "metadata": {},
     "output_type": "execute_result"
    }
   ],
   "source": [
    "url = \"https://osdm-demo-test.osdm-adapter.s3p.cloud/v2/places\"\n",
    "\n",
    "payload = {\n",
    "  \"placeInput\": {\n",
    "    \"name\": \"Basel\"\n",
    "  },\n",
    "  \"numberOfResults\": 10\n",
    "}\n",
    "    \n",
    "headers = {\n",
    "  'Authorization': 'Bearer {{agent.token}}',\n",
    "  'Content-Type': 'application/json'\n",
    "}\n",
    "\n",
    "headers['Authorization'] = headers['Authorization'].replace(\"{{agent.token}}\", token)\n",
    "\n",
    "response = requests.request(\"POST\", url, headers=headers, data=json.dumps(payload))\n",
    "\n",
    "json.loads(response.text)"
   ]
  },
  {
   "cell_type": "markdown",
   "id": "a12f853c-ed4a-4a3b-afb1-f9e87597de7a",
   "metadata": {
    "tags": []
   },
   "source": [
    "### 2. Request Offers"
   ]
  },
  {
   "cell_type": "code",
   "execution_count": 105,
   "id": "7539fe4d-6741-452f-bcbf-faa73c70ff63",
   "metadata": {
    "tags": []
   },
   "outputs": [],
   "source": [
    "url = \"https://osdm-demo-test.osdm-adapter.s3p.cloud/v2/offers\"\n",
    "\n",
    "payload = {\n",
    "  \"objectType\": \"string\",\n",
    "  \"tripSpecifications\": [\n",
    "    {\n",
    "      \"externalRef\": \"string\",\n",
    "      \"legs\": [\n",
    "        {\n",
    "          \"externalRef\": \"string\",\n",
    "          \"timedLeg\": {\n",
    "            \"start\": {\n",
    "              \"stopPlaceRef\": {\n",
    "                \"stopPlaceRef\": \"urn:uic:stn:8500010\"\n",
    "              },\n",
    "              \"serviceDeparture\": {\n",
    "                \"timetabledTime\": \"2022-05-15T00:00:00+00:00\"\n",
    "              }\n",
    "            },\n",
    "            \"end\": {\n",
    "              \"stopPlaceRef\": {\n",
    "                \"stopPlaceRef\": \"urn:uic:stn:8503000\"\n",
    "              },\n",
    "              \"serviceArrival\": {\n",
    "                \"timetabledTime\": \"2022-05-16T00:00:00+00:00\"\n",
    "              }\n",
    "            },\n",
    "            \"service\": {\n",
    "              \"publishedServiceName\": \"OSDM_IC\",\n",
    "              \"vehicleNumbers\": [\n",
    "                \"OSDM_IC\"\n",
    "              ],\n",
    "              \"carriers\": [\n",
    "                {\n",
    "                  \"ref\": \"OSDM_IC\",\n",
    "                  \"name\": \"OSDM_IC\"\n",
    "                }\n",
    "              ]\n",
    "            }\n",
    "          }\n",
    "        }\n",
    "      ],\n",
    "      \"isPartOfInternationalTrip\": False\n",
    "    }\n",
    "  ],\n",
    "  \"offerSearchCriteria\": {\n",
    "    \"currency\": \"CHF\"\n",
    "  },\n",
    "  \"anonymousPassengerSpecifications\": [\n",
    "    {\n",
    "      \"externalRef\": \"123456789\",\n",
    "      \"type\": \"PERSON\"\n",
    "    }\n",
    "  ],\n",
    "  \"embed\": [\n",
    "    \"ALL\"\n",
    "  ]\n",
    "}\n",
    "\n",
    "headers = {\n",
    "  'Authorization': 'Bearer {{agent.token}}',\n",
    "  'Content-Type': 'application/json'\n",
    "}\n",
    "\n",
    "headers['Authorization'] = headers['Authorization'].replace(\"{{agent.token}}\", token)\n",
    "\n",
    "response = requests.request(\"POST\", url, headers=headers, data=json.dumps(payload))"
   ]
  },
  {
   "cell_type": "code",
   "execution_count": 106,
   "id": "4533f4e8-6ab9-4f38-affd-9fdd8877e082",
   "metadata": {
    "tags": []
   },
   "outputs": [
    {
     "data": {
      "text/plain": [
       "{'anonymousPassengerSpecifications': [{'externalRef': '123456789',\n",
       "   'type': 'PERSON'}],\n",
       " 'trips': [{'destination': {'objectType': 'StopPlaceRef',\n",
       "    'name': 'Zürich HB',\n",
       "    'stopPlaceRef': 'urn:uic:stn:8503000'},\n",
       "   'direction': 'OUT_BOUND',\n",
       "   'duration': 'PT24H',\n",
       "   'endTime': '2022-05-16T00:00:00Z',\n",
       "   'externalRef': 'string',\n",
       "   'id': 'hTqkqsbZWer46f4N9GKKK0a2MG8o_Qaklla1SQ9Q8lxsYygE-vxC_HMY5xf4hsPLS19k9gG1hNGwNvU3MSs_Vq1BDRzTuRTpPJv3p3tIEdyAuyTLu12TmnUdlUcRoqmUTKS4tzUn3xUdUJk9nVOE4OYJw1o8YwitkJFaWc1xzvqYTG7QGI1UyJiAk2CmpArf6hDenKFkS-VqcuCMFYUcKRYEDz5KPXS23hAkkVi8JBsR54_fhVJ_cXF9dpGWsxHb-qehAtOLf8ggQhrQQy6DinCy2rHoZ0Z2WXgmPUEpahZdRDUZiKu8SRNX4ypUG8jXrSyqVASPy1hVF07amgPKa963IqZt3OpOA59nRSczSXKV3uhLu2heHARYibyfHkWCiuLOuU7KihVybTZqVnyJPIQbgBQ0It4719TdT6LLk_b5C9L6CtZSKU57fY9F7XDtDFWZKw0zsBGiocxODueG7P1jwNQ06o17R5S6CQFkz5UZUhGCXwYMG9yeLFxPMlXLkazHF9g8kG3ReysaEc_dhVDaA9ThtMZIreFMMB__HnQM2Wk6b0jbbMKZ_mhotTJQzflcD7C8VDlB_KuRBJl1LLBvken983oJkzc8dN4b3DsSPya2poi8LAJezUWpyl6LWBLMIVc-',\n",
       "   'legs': [{'id': '0:DA|OSDM_IC|OSDM_IC|2022-05-15T02:00|2022-05-16T02:00;8500010;8503000',\n",
       "     'timedLeg': {'duration': 'PT24H',\n",
       "      'end': {'serviceArrival': {'timetabledTime': '2022-05-16T00:00:00Z'},\n",
       "       'stopPlaceName': 'Zürich HB',\n",
       "       'stopPlaceRef': {'objectType': 'StopPlaceRef',\n",
       "        'name': 'Zürich HB',\n",
       "        'stopPlaceRef': 'urn:uic:stn:8503000'}},\n",
       "      'service': {'carriers': [{'ref': 'OSDM_IC'}],\n",
       "       'mode': {'name': 'rail', 'ptMode': 'TRAIN'},\n",
       "       'vehicleNumbers': ['OSDM_IC']},\n",
       "      'start': {'serviceDeparture': {'timetabledTime': '2022-05-15T00:00:00Z'},\n",
       "       'stopPlaceName': 'Basel SBB',\n",
       "       'stopPlaceRef': {'objectType': 'StopPlaceRef',\n",
       "        'name': 'Basel SBB',\n",
       "        'stopPlaceRef': 'urn:uic:stn:8500010'}}}}],\n",
       "   'origin': {'objectType': 'StopPlaceRef',\n",
       "    'name': 'Basel SBB',\n",
       "    'stopPlaceRef': 'urn:uic:stn:8500010'},\n",
       "   'startTime': '2022-05-15T00:00:00Z',\n",
       "   'transfers': 0}]}"
      ]
     },
     "execution_count": 106,
     "metadata": {},
     "output_type": "execute_result"
    }
   ],
   "source": [
    "json.loads(response.text)"
   ]
  },
  {
   "cell_type": "code",
   "execution_count": 86,
   "id": "79d5a84a-a799-4120-8396-f5b348cdeb4d",
   "metadata": {
    "tags": []
   },
   "outputs": [
    {
     "data": {
      "text/plain": [
       "{'tripSearchCriteria': {'origin': 'urn:uic:stn:8500010',\n",
       "  'destination': 'urn:uic:stn:8503000',\n",
       "  'departureTime': '2022-05-15T00:00:00+00:00'},\n",
       " 'passengerSpecification': [{'type': 'PERSON', 'dateOfBirth': '1970-01-01'}],\n",
       " 'offerSearchCriteria': {'currency': 'CHF'}}"
      ]
     },
     "execution_count": 86,
     "metadata": {},
     "output_type": "execute_result"
    }
   ],
   "source": [
    "payload"
   ]
  },
  {
   "cell_type": "code",
   "execution_count": null,
   "id": "d9664bc6-7779-43f3-b5f4-3ffe8aac523a",
   "metadata": {},
   "outputs": [],
   "source": []
  }
 ],
 "metadata": {
  "kernelspec": {
   "display_name": "Python 3 (ipykernel)",
   "language": "python",
   "name": "python3"
  },
  "language_info": {
   "codemirror_mode": {
    "name": "ipython",
    "version": 3
   },
   "file_extension": ".py",
   "mimetype": "text/x-python",
   "name": "python",
   "nbconvert_exporter": "python",
   "pygments_lexer": "ipython3",
   "version": "3.10.10"
  }
 },
 "nbformat": 4,
 "nbformat_minor": 5
}
