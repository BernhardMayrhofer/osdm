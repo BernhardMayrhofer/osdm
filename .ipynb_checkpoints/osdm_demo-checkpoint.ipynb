{
 "cells": [
  {
   "cell_type": "markdown",
   "id": "76f94672-2389-4274-86b4-8869b7111072",
   "metadata": {},
   "source": [
    "# osdm demo"
   ]
  },
  {
   "cell_type": "markdown",
   "id": "9236159d-bcf9-4fed-a320-26b584f6dfe0",
   "metadata": {},
   "source": [
    "## Get Token"
   ]
  },
  {
   "cell_type": "code",
   "execution_count": null,
   "id": "43454cb2-1b27-4eec-9e84-e8d8ff811fa6",
   "metadata": {},
   "outputs": [],
   "source": []
  }
 ],
 "metadata": {
  "kernelspec": {
   "display_name": "Python 3 (ipykernel)",
   "language": "python",
   "name": "python3"
  },
  "language_info": {
   "codemirror_mode": {
    "name": "ipython",
    "version": 3
   },
   "file_extension": ".py",
   "mimetype": "text/x-python",
   "name": "python",
   "nbconvert_exporter": "python",
   "pygments_lexer": "ipython3",
   "version": "3.10.10"
  }
 },
 "nbformat": 4,
 "nbformat_minor": 5
}
