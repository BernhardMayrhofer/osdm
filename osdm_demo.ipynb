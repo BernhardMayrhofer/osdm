{
 "cells": [
  {
   "cell_type": "markdown",
   "id": "76f94672-2389-4274-86b4-8869b7111072",
   "metadata": {},
   "source": [
    "# osdm demo"
   ]
  },
  {
   "cell_type": "code",
   "execution_count": 92,
   "id": "7b342a70-3660-422e-8394-71ee3a1fffbf",
   "metadata": {
    "tags": []
   },
   "outputs": [
    {
     "data": {
      "text/plain": [
       "True"
      ]
     },
     "execution_count": 92,
     "metadata": {},
     "output_type": "execute_result"
    }
   ],
   "source": [
    "import os\n",
    "import requests\n",
    "import json\n",
    "import pandas as pd\n",
    "\n",
    "from dotenv import load_dotenv\n",
    "\n",
    "load_dotenv()"
   ]
  },
  {
   "cell_type": "markdown",
   "id": "ba545304-218c-4bb6-b74f-a1c23beacfe3",
   "metadata": {
    "tags": []
   },
   "source": [
    "## Get Secrets from .env"
   ]
  },
  {
   "cell_type": "code",
   "execution_count": 78,
   "id": "5a4f75f0-e9f2-4b95-a100-6a1ee0f1ff41",
   "metadata": {
    "tags": []
   },
   "outputs": [],
   "source": [
    "KEY_SECRET = os.getenv('KEY_SECRET')\n",
    "USERNAME = os.getenv('USERNAME')\n",
    "PASSWORD = os.getenv('PASSWORD')"
   ]
  },
  {
   "cell_type": "markdown",
   "id": "41d97f4e-a001-404a-b88a-d8fa66ebbc1f",
   "metadata": {
    "tags": []
   },
   "source": [
    "## Master Data"
   ]
  },
  {
   "cell_type": "markdown",
   "id": "9236159d-bcf9-4fed-a320-26b584f6dfe0",
   "metadata": {},
   "source": [
    "### Agent Token"
   ]
  },
  {
   "cell_type": "code",
   "execution_count": 79,
   "id": "43454cb2-1b27-4eec-9e84-e8d8ff811fa6",
   "metadata": {
    "tags": []
   },
   "outputs": [],
   "source": [
    "url = \"{{api-host}}/oauth/v2/token\".replace(\"{{api-host}}\", \"https://api.osdm-demo-test.cloud.sqills.com\")\n",
    "\n",
    "payload = {\n",
    "  \"grant_type\": \"https://com.sqills.s3.oauth.agent\",\n",
    "  \"username\": \"{{agent.username}}\",\n",
    "  \"password\": \"{{agent.password}}\"\n",
    "}\n",
    "\n",
    "payload['username'] = payload['username'].replace(\"{{agent.username}}\", USERNAME)\n",
    "payload['password'] = payload['password'].replace(\"{{agent.password}}\", PASSWORD)\n",
    "\n",
    "headers = {\n",
    "  'Authorization': 'Basic {{auth.key_secret}}',\n",
    "  'Content-Type': 'application/json'\n",
    "}\n",
    "\n",
    "headers['Authorization'] = headers['Authorization'].replace(\"{{auth.key_secret}}\", KEY_SECRET)\n",
    "\n",
    "response = requests.request(\"POST\", url, headers=headers, data=json.dumps(payload))\n",
    "\n",
    "token = json.loads(response.text)['access_token']"
   ]
  },
  {
   "cell_type": "markdown",
   "id": "5875b15b-9512-4e2d-a9d1-044bd4b7fa2b",
   "metadata": {},
   "source": [
    "### Products"
   ]
  },
  {
   "cell_type": "code",
   "execution_count": 97,
   "id": "c9abd78a-89fe-424c-a62c-44a85c18207e",
   "metadata": {
    "tags": []
   },
   "outputs": [
    {
     "data": {
      "text/html": [
       "<div>\n",
       "<style scoped>\n",
       "    .dataframe tbody tr th:only-of-type {\n",
       "        vertical-align: middle;\n",
       "    }\n",
       "\n",
       "    .dataframe tbody tr th {\n",
       "        vertical-align: top;\n",
       "    }\n",
       "\n",
       "    .dataframe thead th {\n",
       "        text-align: right;\n",
       "    }\n",
       "</style>\n",
       "<table border=\"1\" class=\"dataframe\">\n",
       "  <thead>\n",
       "    <tr style=\"text-align: right;\">\n",
       "      <th></th>\n",
       "      <th>code</th>\n",
       "      <th>id</th>\n",
       "      <th>owner</th>\n",
       "      <th>description</th>\n",
       "      <th>summary</th>\n",
       "    </tr>\n",
       "  </thead>\n",
       "  <tbody>\n",
       "    <tr>\n",
       "      <th>0</th>\n",
       "      <td>BIKE_01</td>\n",
       "      <td>BIKE_01</td>\n",
       "      <td>osdm-demo-test</td>\n",
       "      <td>NaN</td>\n",
       "      <td>NaN</td>\n",
       "    </tr>\n",
       "    <tr>\n",
       "      <th>1</th>\n",
       "      <td>CAN_FEE1</td>\n",
       "      <td>CAN_FEE1</td>\n",
       "      <td>osdm-demo-test</td>\n",
       "      <td>Cancellation fee - Flexible products</td>\n",
       "      <td>Cancellation fee - Flexible products</td>\n",
       "    </tr>\n",
       "    <tr>\n",
       "      <th>2</th>\n",
       "      <td>CAN_FEE2</td>\n",
       "      <td>CAN_FEE2</td>\n",
       "      <td>osdm-demo-test</td>\n",
       "      <td>Cancellation fee - Medium Flex products</td>\n",
       "      <td>Cancellation fee - Medium Flex products</td>\n",
       "    </tr>\n",
       "    <tr>\n",
       "      <th>3</th>\n",
       "      <td>CAN_FEE3</td>\n",
       "      <td>CAN_FEE3</td>\n",
       "      <td>osdm-demo-test</td>\n",
       "      <td>Cancellation fee - Low fixed products</td>\n",
       "      <td>Cancellation fee - Low fixed products</td>\n",
       "    </tr>\n",
       "    <tr>\n",
       "      <th>4</th>\n",
       "      <td>LUGGAGE</td>\n",
       "      <td>LUGGAGE</td>\n",
       "      <td>osdm-demo-test</td>\n",
       "      <td>Standard luggage Sqills OSDM sandbox</td>\n",
       "      <td>Standard luggage Sqills OSDM sandbox</td>\n",
       "    </tr>\n",
       "  </tbody>\n",
       "</table>\n",
       "</div>"
      ],
      "text/plain": [
       "       code        id           owner   \n",
       "0   BIKE_01   BIKE_01  osdm-demo-test  \\\n",
       "1  CAN_FEE1  CAN_FEE1  osdm-demo-test   \n",
       "2  CAN_FEE2  CAN_FEE2  osdm-demo-test   \n",
       "3  CAN_FEE3  CAN_FEE3  osdm-demo-test   \n",
       "4   LUGGAGE   LUGGAGE  osdm-demo-test   \n",
       "\n",
       "                               description   \n",
       "0                                      NaN  \\\n",
       "1     Cancellation fee - Flexible products   \n",
       "2  Cancellation fee - Medium Flex products   \n",
       "3    Cancellation fee - Low fixed products   \n",
       "4     Standard luggage Sqills OSDM sandbox   \n",
       "\n",
       "                                   summary  \n",
       "0                                      NaN  \n",
       "1     Cancellation fee - Flexible products  \n",
       "2  Cancellation fee - Medium Flex products  \n",
       "3    Cancellation fee - Low fixed products  \n",
       "4     Standard luggage Sqills OSDM sandbox  "
      ]
     },
     "execution_count": 97,
     "metadata": {},
     "output_type": "execute_result"
    }
   ],
   "source": [
    "url = \"https://osdm-demo-test.osdm-adapter.s3p.cloud/v2/products\"\n",
    "\n",
    "payload = \"\"\n",
    "\n",
    "headers = {\n",
    "  'Authorization': 'Bearer {{agent.token}}'\n",
    "}\n",
    "\n",
    "headers['Authorization'] = headers['Authorization'].replace(\"{{agent.token}}\", token)\n",
    "\n",
    "response = requests.request(\"GET\", url, headers=headers, data=json.dumps(payload))\n",
    "\n",
    "df = pd.json_normalize(json.loads(response.text)['products'])\n",
    "df.head()"
   ]
  },
  {
   "cell_type": "markdown",
   "id": "a36cb4ed-8f85-407f-b705-476569b56988",
   "metadata": {
    "tags": []
   },
   "source": [
    "### Places"
   ]
  },
  {
   "cell_type": "code",
   "execution_count": 109,
   "id": "4e4a8d12-66aa-412f-8b2c-1e5f4f63d373",
   "metadata": {
    "tags": []
   },
   "outputs": [
    {
     "data": {
      "text/html": [
       "<div>\n",
       "<style scoped>\n",
       "    .dataframe tbody tr th:only-of-type {\n",
       "        vertical-align: middle;\n",
       "    }\n",
       "\n",
       "    .dataframe tbody tr th {\n",
       "        vertical-align: top;\n",
       "    }\n",
       "\n",
       "    .dataframe thead th {\n",
       "        text-align: right;\n",
       "    }\n",
       "</style>\n",
       "<table border=\"1\" class=\"dataframe\">\n",
       "  <thead>\n",
       "    <tr style=\"text-align: right;\">\n",
       "      <th></th>\n",
       "      <th>id</th>\n",
       "      <th>name</th>\n",
       "      <th>address.code</th>\n",
       "      <th>stopPlace.name</th>\n",
       "      <th>stopPlace.ref.objectType</th>\n",
       "      <th>stopPlace.ref.name</th>\n",
       "      <th>stopPlace.ref.stopPlaceRef</th>\n",
       "    </tr>\n",
       "  </thead>\n",
       "  <tbody>\n",
       "    <tr>\n",
       "      <th>0</th>\n",
       "      <td>urn:uic:stn:8015458</td>\n",
       "      <td>Köln Hbf</td>\n",
       "      <td>DEKOH</td>\n",
       "      <td>Köln Hbf</td>\n",
       "      <td>StopPlaceRef</td>\n",
       "      <td>Köln Hbf</td>\n",
       "      <td>urn:uic:stn:8015458</td>\n",
       "    </tr>\n",
       "    <tr>\n",
       "      <th>1</th>\n",
       "      <td>urn:uic:stn:8011068</td>\n",
       "      <td>Frankfurt (Main) Hbf</td>\n",
       "      <td>DEFRA</td>\n",
       "      <td>Frankfurt (Main) Hbf</td>\n",
       "      <td>StopPlaceRef</td>\n",
       "      <td>Frankfurt (Main) Hbf</td>\n",
       "      <td>urn:uic:stn:8011068</td>\n",
       "    </tr>\n",
       "    <tr>\n",
       "      <th>2</th>\n",
       "      <td>urn:uic:stn:8503000</td>\n",
       "      <td>Zürich HB</td>\n",
       "      <td>CHAJD</td>\n",
       "      <td>Zürich HB</td>\n",
       "      <td>StopPlaceRef</td>\n",
       "      <td>Zürich HB</td>\n",
       "      <td>urn:uic:stn:8503000</td>\n",
       "    </tr>\n",
       "  </tbody>\n",
       "</table>\n",
       "</div>"
      ],
      "text/plain": [
       "                    id                  name address.code   \n",
       "0  urn:uic:stn:8015458              Köln Hbf        DEKOH  \\\n",
       "1  urn:uic:stn:8011068  Frankfurt (Main) Hbf        DEFRA   \n",
       "2  urn:uic:stn:8503000             Zürich HB        CHAJD   \n",
       "\n",
       "         stopPlace.name stopPlace.ref.objectType    stopPlace.ref.name   \n",
       "0              Köln Hbf             StopPlaceRef              Köln Hbf  \\\n",
       "1  Frankfurt (Main) Hbf             StopPlaceRef  Frankfurt (Main) Hbf   \n",
       "2             Zürich HB             StopPlaceRef             Zürich HB   \n",
       "\n",
       "  stopPlace.ref.stopPlaceRef  \n",
       "0        urn:uic:stn:8015458  \n",
       "1        urn:uic:stn:8011068  \n",
       "2        urn:uic:stn:8503000  "
      ]
     },
     "execution_count": 109,
     "metadata": {},
     "output_type": "execute_result"
    }
   ],
   "source": [
    "url = \"https://osdm-demo-test.osdm-adapter.s3p.cloud/v2/places\"\n",
    "\n",
    "payload = {\n",
    "  \"placeInput\": {\n",
    "    \"name\": \"hb\"\n",
    "  },\n",
    "  \"numberOfResults\": 10\n",
    "}\n",
    "    \n",
    "headers = {\n",
    "  'Authorization': 'Bearer {{agent.token}}',\n",
    "  'Content-Type': 'application/json'\n",
    "}\n",
    "\n",
    "headers['Authorization'] = headers['Authorization'].replace(\"{{agent.token}}\", token)\n",
    "\n",
    "response = requests.request(\"POST\", url, headers=headers, data=json.dumps(payload))\n",
    "\n",
    "df = pd.json_normalize(json.loads(response.text)['places'])\n",
    "df"
   ]
  },
  {
   "cell_type": "markdown",
   "id": "93795b8b-ae21-47d7-b549-87374dcc948a",
   "metadata": {
    "tags": []
   },
   "source": [
    "## Sales Flow"
   ]
  },
  {
   "cell_type": "markdown",
   "id": "73526436-2b83-4194-a52a-de5fc0720158",
   "metadata": {
    "tags": []
   },
   "source": [
    "### 2. Navigate"
   ]
  },
  {
   "cell_type": "code",
   "execution_count": 87,
   "id": "e0240e24-f228-4738-9827-f2a52e28774a",
   "metadata": {
    "tags": []
   },
   "outputs": [
    {
     "data": {
      "text/plain": [
       "{'data': {'travels': [{'routes': [], 'id': 'travel_1'}]}}"
      ]
     },
     "execution_count": 87,
     "metadata": {},
     "output_type": "execute_result"
    }
   ],
   "source": [
    "url = \"https://api.osdm-demo-test.cloud.sqills.com/api/v2/orientation/navigate\"\n",
    "\n",
    "payload = {\n",
    "  \"travels\": [\n",
    "    {\n",
    "      \"origin\": \"8400058\",\n",
    "      \"destination\": \"8727100\",\n",
    "      \"departure\": \"2023-05-15\",\n",
    "      \"max_transfers\": 0\n",
    "    }\n",
    "  ]\n",
    "}\n",
    "\n",
    "headers = {\n",
    "  'Content-Type': 'application/json',\n",
    "  'Accept': 'application/json',\n",
    "  'Accept-Language': '{{locale}}',\n",
    "  'Authorization': 'Bearer {{agent.token}}'\n",
    "}\n",
    "\n",
    "headers['Authorization'] = headers['Authorization'].replace(\"{{agent.token}}\", token)\n",
    "\n",
    "response = requests.request(\"POST\", url, headers=headers, data=json.dumps(payload))\n",
    "\n",
    "data = json.loads(response.text)\n",
    "\n",
    "data"
   ]
  },
  {
   "cell_type": "code",
   "execution_count": 84,
   "id": "5a77523b-c724-40d1-bd70-2c0356e61b85",
   "metadata": {
    "tags": []
   },
   "outputs": [
    {
     "data": {
      "text/plain": [
       "'Bearer {{agent.token}}'"
      ]
     },
     "execution_count": 84,
     "metadata": {},
     "output_type": "execute_result"
    }
   ],
   "source": [
    "headers['Authorization']"
   ]
  },
  {
   "cell_type": "code",
   "execution_count": null,
   "id": "dec44740-7f7c-4b10-868d-138be386eb82",
   "metadata": {},
   "outputs": [],
   "source": []
  }
 ],
 "metadata": {
  "kernelspec": {
   "display_name": "Python 3 (ipykernel)",
   "language": "python",
   "name": "python3"
  },
  "language_info": {
   "codemirror_mode": {
    "name": "ipython",
    "version": 3
   },
   "file_extension": ".py",
   "mimetype": "text/x-python",
   "name": "python",
   "nbconvert_exporter": "python",
   "pygments_lexer": "ipython3",
   "version": "3.10.10"
  }
 },
 "nbformat": 4,
 "nbformat_minor": 5
}
