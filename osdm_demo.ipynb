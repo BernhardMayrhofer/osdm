{
 "cells": [
  {
   "cell_type": "markdown",
   "id": "76f94672-2389-4274-86b4-8869b7111072",
   "metadata": {},
   "source": [
    "# osdm demo"
   ]
  },
  {
   "cell_type": "markdown",
   "id": "ba545304-218c-4bb6-b74f-a1c23beacfe3",
   "metadata": {
    "tags": []
   },
   "source": [
    "## Get Secrets from .env"
   ]
  },
  {
   "cell_type": "code",
   "execution_count": 47,
   "id": "5a4f75f0-e9f2-4b95-a100-6a1ee0f1ff41",
   "metadata": {
    "tags": []
   },
   "outputs": [],
   "source": [
    "import os\n",
    "from dotenv import load_dotenv\n",
    "\n",
    "load_dotenv()\n",
    "\n",
    "KEY_SECRET = os.getenv('KEY_SECRET')\n",
    "USERNAME = os.getenv('USERNAME')\n",
    "PASSWORD = os.getenv('PASSWORD')"
   ]
  },
  {
   "cell_type": "markdown",
   "id": "9236159d-bcf9-4fed-a320-26b584f6dfe0",
   "metadata": {},
   "source": [
    "## Get Token"
   ]
  },
  {
   "cell_type": "code",
   "execution_count": 56,
   "id": "43454cb2-1b27-4eec-9e84-e8d8ff811fa6",
   "metadata": {
    "tags": []
   },
   "outputs": [],
   "source": [
    "import requests\n",
    "import json\n",
    "\n",
    "url = \"{{api-host}}/oauth/v2/token\".replace(\"{{api-host}}\", \"https://api.osdm-demo-test.cloud.sqills.com\")\n",
    "\n",
    "payload = {\n",
    "  \"grant_type\": \"https://com.sqills.s3.oauth.agent\",\n",
    "  \"username\": \"{{agent.username}}\",\n",
    "  \"password\": \"{{agent.password}}\"\n",
    "}\n",
    "\n",
    "payload['username'] = payload['username'].replace(\"{{agent.username}}\", USERNAME)\n",
    "payload['password'] = payload['password'].replace(\"{{agent.password}}\", PASSWORD)\n",
    "\n",
    "headers = {\n",
    "  'Authorization': 'Basic {{auth.key_secret}}',\n",
    "  'Content-Type': 'application/json'\n",
    "}\n",
    "\n",
    "headers['Authorization'] = headers['Authorization'].replace(\"{{auth.key_secret}}\", KEY_SECRET)"
   ]
  },
  {
   "cell_type": "code",
   "execution_count": 59,
   "id": "ae07f021-e1ec-4f7b-adbc-303787f23199",
   "metadata": {
    "tags": []
   },
   "outputs": [],
   "source": [
    "response = requests.request(\"POST\", url, headers=headers, data=json.dumps(payload))"
   ]
  },
  {
   "cell_type": "code",
   "execution_count": 68,
   "id": "3caff737-cbbf-41b2-86d6-25765d6e4bcb",
   "metadata": {
    "tags": []
   },
   "outputs": [],
   "source": [
    "token = json.loads(response.text)['access_token']"
   ]
  },
  {
   "cell_type": "code",
   "execution_count": null,
   "id": "cce56489-ad86-412a-a919-f72ed1bdfa26",
   "metadata": {},
   "outputs": [],
   "source": []
  }
 ],
 "metadata": {
  "kernelspec": {
   "display_name": "Python 3 (ipykernel)",
   "language": "python",
   "name": "python3"
  },
  "language_info": {
   "codemirror_mode": {
    "name": "ipython",
    "version": 3
   },
   "file_extension": ".py",
   "mimetype": "text/x-python",
   "name": "python",
   "nbconvert_exporter": "python",
   "pygments_lexer": "ipython3",
   "version": "3.10.10"
  }
 },
 "nbformat": 4,
 "nbformat_minor": 5
}
