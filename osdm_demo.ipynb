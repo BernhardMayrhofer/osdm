{
 "cells": [
  {
   "cell_type": "markdown",
   "id": "7b0da25d-31b9-4c7a-bcbc-10e340cbc5e1",
   "metadata": {},
   "source": [
    "# OSDM API Demo\n",
    "\n",
    "This notebooks demonstrates how to access and use the OSDM API."
   ]
  },
  {
   "cell_type": "code",
   "execution_count": null,
   "id": "e6f86d3a-3d7e-4afd-8b13-69f6f76af893",
   "metadata": {},
   "outputs": [],
   "source": [
    "!pip install pip install python-dotenv"
   ]
  },
  {
   "cell_type": "markdown",
   "id": "953bbb4f-5169-4a32-960b-a03ab22b20bd",
   "metadata": {},
   "source": [
    "## Read Credentials from ~.env File"
   ]
  },
  {
   "cell_type": "code",
   "execution_count": 17,
   "id": "e2870a7e-4756-478a-b11c-3f078fef3758",
   "metadata": {
    "tags": []
   },
   "outputs": [],
   "source": [
    "import os\n",
    "from dotenv import load_dotenv\n",
    "\n",
    "%load_ext dotenv #Jupyter magic command to load .env variables\n",
    "%dotenv #Jupyter magic command to load .env variables"
   ]
  },
  {
   "cell_type": "code",
   "execution_count": 21,
   "id": "b7fd061a-578e-4093-b5ef-75b5233a1316",
   "metadata": {
    "tags": []
   },
   "outputs": [],
   "source": [
    "KEY_SECRET = os.getenv('KEY_SECRET')\n",
    "USERNAME = os.getenv('USERNAME')\n",
    "PASSWORD = os.getenv('PASSWORD')"
   ]
  },
  {
   "cell_type": "code",
   "execution_count": null,
   "id": "ad5dd8e8-f187-4ac2-87ca-829261fe1f07",
   "metadata": {},
   "outputs": [],
   "source": []
  },
  {
   "cell_type": "code",
   "execution_count": null,
   "id": "79dc037c-f3dc-4a13-9dd4-e112166d9c25",
   "metadata": {},
   "outputs": [],
   "source": []
  }
 ],
 "metadata": {
  "kernelspec": {
   "display_name": "Python 3 (ipykernel)",
   "language": "python",
   "name": "python3"
  },
  "language_info": {
   "codemirror_mode": {
    "name": "ipython",
    "version": 3
   },
   "file_extension": ".py",
   "mimetype": "text/x-python",
   "name": "python",
   "nbconvert_exporter": "python",
   "pygments_lexer": "ipython3",
   "version": "3.10.10"
  }
 },
 "nbformat": 4,
 "nbformat_minor": 5
}
